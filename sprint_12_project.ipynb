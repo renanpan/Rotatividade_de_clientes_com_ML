{
 "cells": [
  {
   "cell_type": "markdown",
   "metadata": {},
   "source": [
    "# Sprint 12 - Project description"
   ]
  },
  {
   "cell_type": "markdown",
   "metadata": {},
   "source": [
    "The Model Fitness gym chain is developing a customer interaction strategy based on analytical data. \n",
    "\n",
    "One of the most common problems that gymns and other services face is the client churn. How do you know if a client is not with you anymore? I can calculate the churn based on people getting rid of their accounts or not renewing their contracts. However, sometimes it is not obvious that a client has left, they sneak out. \n",
    "\n",
    "Turnover indicators vary from area to area. If an user rarely buys from an online store but in a regular basis, you can't say he is a runner. But, if for two weeks they did not open the channel that is updated daily, that is a reason to worry: your follower may have gotten bored and left you.\n",
    "\n",
    "For a gym, makes sense to say that the clients had left if they disappeard for a month. Of course, it is possible that they are in Cancun and will come back to the gym when they return, but this is not a common situation. Normaly if a client joins, comes a couple times then disappear, he probably won't come back.\n",
    "\n",
    "Instead of fighting churn rates, Model Fitness digitalized part of their clients profile. My job is to analyse this information and come up with a retention strategy.\n",
    "\n",
    "To do so I must:\n",
    "\n",
    "- learn to predict the churn probability (for the next month) for each client.\n",
    "- Draw up profiles of typical users: select the most striking groups and describe their main characteristics\n",
    "- Analyse the factors that most impact the churn\n",
    "- Take basic conclusions and develop recommendations about how to improve the clients service:\n",
    "    - Identify target groups\n",
    "    - suggest measurements to diminish churning\n",
    "    - Describe any other patter that I might see regardint the interactions with clients"
   ]
  },
  {
   "cell_type": "markdown",
   "metadata": {},
   "source": [
    "## Step 1 - Download and load the data"
   ]
  },
  {
   "cell_type": "markdown",
   "metadata": {},
   "source": [
    "- Load the necessary libraries"
   ]
  },
  {
   "cell_type": "code",
   "execution_count": 26,
   "metadata": {},
   "outputs": [],
   "source": [
    "import pandas as pd\n",
    "import seaborn as sns\n",
    "import matplotlib.pyplot as plt\n",
    "from sklearn.preprocessing import StandardScaler\n",
    "from sklearn.model_selection import train_test_split\n",
    "from sklearn.linear_model import LogisticRegression\n",
    "from sklearn.linear_model import Lasso, Ridge\n",
    "from sklearn.tree import DecisionTreeRegressor\n",
    "from sklearn.ensemble import RandomForestRegressor, GradientBoostingRegressor\n",
    "from sklearn.metrics import mean_absolute_error, mean_squared_error, r2_score\n",
    "from sklearn.metrics import accuracy_score, precision_score, recall_score, f1_score\n",
    "from sklearn.metrics import roc_auc_score\n",
    "from scipy.cluster.hierarchy import dendrogram, linkage "
   ]
  },
  {
   "cell_type": "code",
   "execution_count": 3,
   "metadata": {},
   "outputs": [],
   "source": [
    "#loading the dataset\n",
    "gym_churn = pd.read_csv('dataset_12/gym_churn_us.csv')"
   ]
  },
  {
   "cell_type": "markdown",
   "metadata": {},
   "source": [
    "## Step 2 - performe the EDA"
   ]
  },
  {
   "cell_type": "code",
   "execution_count": 6,
   "metadata": {},
   "outputs": [
    {
     "name": "stdout",
     "output_type": "stream",
     "text": [
      "(4000, 14)\n",
      "\n",
      "   gender  Near_Location  Partner  Promo_friends  Phone  Contract_period  \\\n",
      "0       1              1        1              1      0                6   \n",
      "1       0              1        0              0      1               12   \n",
      "2       0              1        1              0      1                1   \n",
      "3       0              1        1              1      1               12   \n",
      "4       1              1        1              1      1                1   \n",
      "\n",
      "   Group_visits  Age  Avg_additional_charges_total  Month_to_end_contract  \\\n",
      "0             1   29                     14.227470                    5.0   \n",
      "1             1   31                    113.202938                   12.0   \n",
      "2             0   28                    129.448479                    1.0   \n",
      "3             1   33                     62.669863                   12.0   \n",
      "4             0   26                    198.362265                    1.0   \n",
      "\n",
      "   Lifetime  Avg_class_frequency_total  Avg_class_frequency_current_month  \\\n",
      "0         3                   0.020398                           0.000000   \n",
      "1         7                   1.922936                           1.910244   \n",
      "2         2                   1.859098                           1.736502   \n",
      "3         2                   3.205633                           3.357215   \n",
      "4         3                   1.113884                           1.120078   \n",
      "\n",
      "   Churn  \n",
      "0      0  \n",
      "1      0  \n",
      "2      0  \n",
      "3      0  \n",
      "4      0  \n"
     ]
    }
   ],
   "source": [
    "#getting the shape and first 5 rows of the dataset\n",
    "print(gym_churn.shape)\n",
    "print()\n",
    "print(gym_churn.head())"
   ]
  },
  {
   "cell_type": "code",
   "execution_count": 15,
   "metadata": {},
   "outputs": [
    {
     "name": "stdout",
     "output_type": "stream",
     "text": [
      "Churn\n",
      "0    2939\n",
      "1    1061\n",
      "Name: count, dtype: int64\n"
     ]
    }
   ],
   "source": [
    "print(gym_churn['Churn'].value_counts())"
   ]
  },
  {
   "cell_type": "code",
   "execution_count": 4,
   "metadata": {},
   "outputs": [
    {
     "name": "stdout",
     "output_type": "stream",
     "text": [
      "<class 'pandas.core.frame.DataFrame'>\n",
      "RangeIndex: 4000 entries, 0 to 3999\n",
      "Data columns (total 14 columns):\n",
      " #   Column                             Non-Null Count  Dtype  \n",
      "---  ------                             --------------  -----  \n",
      " 0   gender                             4000 non-null   int64  \n",
      " 1   Near_Location                      4000 non-null   int64  \n",
      " 2   Partner                            4000 non-null   int64  \n",
      " 3   Promo_friends                      4000 non-null   int64  \n",
      " 4   Phone                              4000 non-null   int64  \n",
      " 5   Contract_period                    4000 non-null   int64  \n",
      " 6   Group_visits                       4000 non-null   int64  \n",
      " 7   Age                                4000 non-null   int64  \n",
      " 8   Avg_additional_charges_total       4000 non-null   float64\n",
      " 9   Month_to_end_contract              4000 non-null   float64\n",
      " 10  Lifetime                           4000 non-null   int64  \n",
      " 11  Avg_class_frequency_total          4000 non-null   float64\n",
      " 12  Avg_class_frequency_current_month  4000 non-null   float64\n",
      " 13  Churn                              4000 non-null   int64  \n",
      "dtypes: float64(4), int64(10)\n",
      "memory usage: 437.6 KB\n"
     ]
    }
   ],
   "source": [
    "#getting the info about the data\n",
    "gym_churn.info()"
   ]
  },
  {
   "cell_type": "code",
   "execution_count": 20,
   "metadata": {},
   "outputs": [
    {
     "name": "stdout",
     "output_type": "stream",
     "text": [
      "            gender  near_location      partner  promo_friends        phone  \\\n",
      "count  4000.000000    4000.000000  4000.000000    4000.000000  4000.000000   \n",
      "mean      0.510250       0.845250     0.486750       0.308500     0.903500   \n",
      "std       0.499957       0.361711     0.499887       0.461932     0.295313   \n",
      "min       0.000000       0.000000     0.000000       0.000000     0.000000   \n",
      "25%       0.000000       1.000000     0.000000       0.000000     1.000000   \n",
      "50%       1.000000       1.000000     0.000000       0.000000     1.000000   \n",
      "75%       1.000000       1.000000     1.000000       1.000000     1.000000   \n",
      "max       1.000000       1.000000     1.000000       1.000000     1.000000   \n",
      "\n",
      "       contract_period  group_visits          age  \\\n",
      "count      4000.000000   4000.000000  4000.000000   \n",
      "mean          4.681250      0.412250    29.184250   \n",
      "std           4.549706      0.492301     3.258367   \n",
      "min           1.000000      0.000000    18.000000   \n",
      "25%           1.000000      0.000000    27.000000   \n",
      "50%           1.000000      0.000000    29.000000   \n",
      "75%           6.000000      1.000000    31.000000   \n",
      "max          12.000000      1.000000    41.000000   \n",
      "\n",
      "       avg_additional_charges_total  month_to_end_contract     lifetime  \\\n",
      "count                   4000.000000            4000.000000  4000.000000   \n",
      "mean                     146.943728               4.322750     3.724750   \n",
      "std                       96.355602               4.191297     3.749267   \n",
      "min                        0.148205               1.000000     0.000000   \n",
      "25%                       68.868830               1.000000     1.000000   \n",
      "50%                      136.220159               1.000000     3.000000   \n",
      "75%                      210.949625               6.000000     5.000000   \n",
      "max                      552.590740              12.000000    31.000000   \n",
      "\n",
      "       avg_class_frequency_total  avg_class_frequency_current_month  \\\n",
      "count                4000.000000                        4000.000000   \n",
      "mean                    1.879020                           1.767052   \n",
      "std                     0.972245                           1.052906   \n",
      "min                     0.000000                           0.000000   \n",
      "25%                     1.180875                           0.963003   \n",
      "50%                     1.832768                           1.719574   \n",
      "75%                     2.536078                           2.510336   \n",
      "max                     6.023668                           6.146783   \n",
      "\n",
      "             churn  \n",
      "count  4000.000000  \n",
      "mean      0.265250  \n",
      "std       0.441521  \n",
      "min       0.000000  \n",
      "25%       0.000000  \n",
      "50%       0.000000  \n",
      "75%       1.000000  \n",
      "max       1.000000  \n"
     ]
    }
   ],
   "source": [
    "print(gym_churn.describe())"
   ]
  },
  {
   "cell_type": "markdown",
   "metadata": {},
   "source": [
    "Conclusion\n",
    "- The dataset has 4000 entries and 14 columns, none of the columns has null values.\n",
    "- I could change the columns so all of them would be in lowercase and it would be easier to work later"
   ]
  },
  {
   "cell_type": "code",
   "execution_count": 16,
   "metadata": {},
   "outputs": [],
   "source": [
    "#transforming all columns to lowercase\n",
    "\n",
    "new_col_names = []\n",
    "\n",
    "for old_name in gym_churn.columns:\n",
    "    name_lowered = old_name.lower()\n",
    "    new_col_names.append(name_lowered)\n",
    "\n",
    "#replacing the old names for the new ones\n",
    "    \n",
    "gym_churn.columns = new_col_names"
   ]
  },
  {
   "cell_type": "markdown",
   "metadata": {},
   "source": [
    "### 2.1 - correlation matrix"
   ]
  },
  {
   "cell_type": "markdown",
   "metadata": {},
   "source": [
    "#buildig and rendering a correlation matrix\n",
    "gym_churn_cm = gym_churn.corr()\n",
    "\n",
    "#ploting a heatmap for the correlation matrix\n",
    "plt.figure(figsize=[15,15])\n",
    "sns.heatmap(gym_churn_cm, annot=True, square=True)\n",
    "ax.set_ylim(7,0)\n",
    "plt.show()"
   ]
  },
  {
   "cell_type": "markdown",
   "metadata": {},
   "source": [
    "#make diagrams of the characteristic-objective variable paired distribution for each characteristic\n",
    "\n",
    "for col in gym_churn.drop(['churn','near_location','phone','group_visits'], axis=1).columns:\n",
    "    sns.scatterplot(x=gym_churn[col], y=gym_churn['churn'])\n",
    "    plt.show()"
   ]
  },
  {
   "cell_type": "markdown",
   "metadata": {},
   "source": [
    "Conclusion\n",
    "- When analysing the correlation it is possible to see that none of the variables have a strong positive correlation with the churn.\n",
    "- After comparing the paired distribution for each characteristic with the churn "
   ]
  },
  {
   "cell_type": "markdown",
   "metadata": {},
   "source": [
    "    Ainda tenho coisas para fazer aqui..."
   ]
  },
  {
   "cell_type": "markdown",
   "metadata": {},
   "source": [
    "## Step 3 - build a model to predict customer churn"
   ]
  },
  {
   "cell_type": "code",
   "execution_count": null,
   "metadata": {},
   "outputs": [],
   "source": [
    "#dividing the dataset\n",
    "\n",
    "X = gym_churn.drop(columns=[''])\n",
    "y = gym_churn['']\n",
    "\n",
    "#dividing the data into train and test\n",
    "\n",
    "X_train, X_test, y_train, y_test = train_test_split(X, y, test_size=0.2, random_state=0)\n"
   ]
  },
  {
   "cell_type": "code",
   "execution_count": null,
   "metadata": {},
   "outputs": [],
   "source": [
    "#training the StandardScaler with the training set \n",
    "\n",
    "scaler = StandardScaler()\n",
    "scaler.fit(X_train)"
   ]
  },
  {
   "cell_type": "code",
   "execution_count": null,
   "metadata": {},
   "outputs": [],
   "source": [
    "#transforming the training and test sets\n",
    "\n",
    "X_train_st = scaler.transform(X_train)\n",
    "X_test_st = scaler.transform(X_test)"
   ]
  },
  {
   "cell_type": "markdown",
   "metadata": {},
   "source": [
    "### 3.1 training the model with logistic regression"
   ]
  },
  {
   "cell_type": "code",
   "execution_count": null,
   "metadata": {},
   "outputs": [],
   "source": [
    "#defining the model\n",
    "\n",
    "lr_model = LogisticRegression(random_state=0)\n",
    "\n",
    "#training the model\n",
    "lr_model.fit(X_train_st, y_train_st)"
   ]
  },
  {
   "cell_type": "code",
   "execution_count": null,
   "metadata": {},
   "outputs": [],
   "source": [
    "#using the model to make predictions\n",
    "\n",
    "lr_predictions = model.predict(X_test_st)\n",
    "lr_probabilities = model.predict_proba(X_test_st)[:,1]\n",
    "\n",
    "#printing all metrics\n",
    "print_all_metrics(y_test, lr_predictions,lr_probabilities, title= 'Metrics for the logistic regression')"
   ]
  },
  {
   "cell_type": "markdown",
   "metadata": {},
   "source": [
    "### 3.2 training the model with random forest"
   ]
  },
  {
   "cell_type": "code",
   "execution_count": null,
   "metadata": {},
   "outputs": [],
   "source": [
    "#defining the forest model\n",
    "rf_model = RandomForestClassifier(n_estimators=100, random_state=0)\n",
    "\n",
    "#training the model\n",
    "rf_model.fit(X_train_st, y_train)"
   ]
  },
  {
   "cell_type": "code",
   "execution_count": null,
   "metadata": {},
   "outputs": [],
   "source": [
    "#using the forest model to make predictions\n",
    "rf_predictions = rf_model.predict(X_test_st)\n",
    "rf_probabilities = rf_model.predict_proba(X_test_st)[:,1]\n",
    "\n",
    "#printing all metrics\n",
    "\n",
    "print_all_metrics(y_test, rf_predictions, rf_probabilities, title = 'Metrics for the random forest')"
   ]
  },
  {
   "cell_type": "markdown",
   "metadata": {},
   "source": [
    "### 3.3 evaluating accuracy, precision and recall"
   ]
  },
  {
   "cell_type": "code",
   "execution_count": null,
   "metadata": {},
   "outputs": [],
   "source": [
    "def print_all_metrics(y_true, y_pred, y_proba, title = 'Classification metric'):\n",
    "    print(title)\n",
    "    print('\\Accuracy: {:.2f}'.format(accuracy_score(y_true, y_pred)))\n",
    "    print('\\tPrecision: {:.2f}'.format(precision_score(y_true, y_pred)))\n",
    "    print('\\tRecall: {:.2f}'.format(recall_score(y_true, y_pred)))"
   ]
  },
  {
   "cell_type": "markdown",
   "metadata": {},
   "source": [
    "    talvez aqui tenha que mover a função para antes"
   ]
  },
  {
   "cell_type": "markdown",
   "metadata": {},
   "source": [
    "## Step 4 - Create customer groupings"
   ]
  },
  {
   "cell_type": "code",
   "execution_count": null,
   "metadata": {},
   "outputs": [],
   "source": [
    "#creating a StandardScaler object and applying it to train set\n",
    "sc = StandardScaler()\n",
    "\n",
    "#training the scaler and transforming the matrix for a train set\n",
    "X_train_st = sc.fit_transform(X_train)\n",
    "\n",
    "linked = linkage(X_train_st, method='ward')"
   ]
  },
  {
   "cell_type": "markdown",
   "metadata": {},
   "source": [
    "#### 4.1 Dendrogram"
   ]
  },
  {
   "cell_type": "code",
   "execution_count": null,
   "metadata": {},
   "outputs": [],
   "source": [
    "#ploting the dendrogram\n",
    "\n",
    "plt.figure(figsize=[15,10])\n",
    "dendrogram(linked, orientation='top')\n",
    "plt.title('Hierarchhical grouping for gym')\n",
    "plt.show()"
   ]
  },
  {
   "cell_type": "markdown",
   "metadata": {},
   "source": [
    "#### 4.2 Training the group with K-means"
   ]
  },
  {
   "cell_type": "code",
   "execution_count": null,
   "metadata": {},
   "outputs": [],
   "source": [
    "#set the function to render paired feature graphs for groupings\n",
    "def show_clusters_on_plot(df, x_name, y_name, cluster_name):\n",
    "    plt.figure(figsize=[10,10])\n",
    "    sns.scatterplot(df[x_name],df[y_name],\n",
    "                    hue=df[cluster_name], palette= 'Paired'\n",
    "                    )\n",
    "    plt.title('{} vs {}'.format(x_name, y_name))\n",
    "    plt.show()"
   ]
  },
  {
   "cell_type": "code",
   "execution_count": null,
   "metadata": {},
   "outputs": [],
   "source": [
    "#standardizing the data\n",
    "sc = StandardScaler()\n",
    "X_sc = sc.fit_transform(gym_churn)"
   ]
  },
  {
   "cell_type": "code",
   "execution_count": null,
   "metadata": {},
   "outputs": [],
   "source": [
    "#seting the k-means model with 5 clusters\n",
    "km = KMeans(n_clusters = 5)\n",
    "\n",
    "#predict the clusters for observations\n",
    "labels = km.fit_predict(x_sc)"
   ]
  },
  {
   "cell_type": "code",
   "execution_count": null,
   "metadata": {},
   "outputs": [],
   "source": [
    "#storing the grouping labels in our dataframe\n",
    "gym_churn[''] = labels"
   ]
  },
  {
   "cell_type": "markdown",
   "metadata": {},
   "source": [
    "- Calcule a taxa de <b>rotatividade</b> para cada agrupamento (use o método groupby()). Eles diferem em termos de taxa de rotatividade? Quais agrupamentos são propensos a sair, e quais são leais?"
   ]
  },
  {
   "cell_type": "code",
   "execution_count": null,
   "metadata": {},
   "outputs": [],
   "source": [
    "#obtaining the statistics of mean values of the charcteristics per cluster\n",
    "gym_churn.groupby(['']).mean() #aqui vai o mesmo nome da coluna colocado anteriormente"
   ]
  },
  {
   "cell_type": "markdown",
   "metadata": {},
   "source": [
    "    utilizar os nomes das colunas de média aqui...\n",
    "    "
   ]
  },
  {
   "cell_type": "code",
   "execution_count": 27,
   "metadata": {},
   "outputs": [
    {
     "name": "stdout",
     "output_type": "stream",
     "text": [
      "Index(['gender', 'near_location', 'partner', 'promo_friends', 'phone',\n",
      "       'contract_period', 'group_visits', 'age',\n",
      "       'avg_additional_charges_total', 'month_to_end_contract', 'lifetime',\n",
      "       'avg_class_frequency_total', 'avg_class_frequency_current_month',\n",
      "       'churn'],\n",
      "      dtype='object')\n"
     ]
    }
   ],
   "source": [
    "print(gym_churn.columns)"
   ]
  },
  {
   "cell_type": "code",
   "execution_count": null,
   "metadata": {},
   "outputs": [],
   "source": [
    "#render the graphic for the paired characteristics\n",
    "show_clusters_on_plot(gym_churn,'avg_class_frequency_total','avg_class_frequency_current_month','') #aqui também fai o nome da coluna que criei anteriormente"
   ]
  },
  {
   "cell_type": "markdown",
   "metadata": {},
   "source": [
    "## Step 5 - Draw conclusions and make basic recommendations about working with clients"
   ]
  }
 ],
 "metadata": {
  "kernelspec": {
   "display_name": "Python 3",
   "language": "python",
   "name": "python3"
  },
  "language_info": {
   "codemirror_mode": {
    "name": "ipython",
    "version": 3
   },
   "file_extension": ".py",
   "mimetype": "text/x-python",
   "name": "python",
   "nbconvert_exporter": "python",
   "pygments_lexer": "ipython3",
   "version": "3.12.0"
  }
 },
 "nbformat": 4,
 "nbformat_minor": 2
}
